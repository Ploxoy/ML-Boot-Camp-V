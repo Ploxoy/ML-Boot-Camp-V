{
 "cells": [
  {
   "cell_type": "code",
   "execution_count": 1,
   "metadata": {
    "collapsed": true
   },
   "outputs": [],
   "source": [
    "import pandas as pd\n",
    "import numpy as np\n",
    "\n",
    "import random\n",
    "\n",
    "import xgboost as xgb\n",
    "import gc\n",
    "\n",
    "import utils\n",
    "\n",
    "# Reload in case utils.py updated\n",
    "# import importlib\n",
    "# utils = importlib.reload(utils)"
   ]
  },
  {
   "cell_type": "code",
   "execution_count": 2,
   "metadata": {
    "collapsed": true
   },
   "outputs": [],
   "source": [
    "import warnings\n",
    "warnings.filterwarnings('ignore')"
   ]
  },
  {
   "cell_type": "markdown",
   "metadata": {},
   "source": [
    "#  Calculate loss for every sample from LOO results"
   ]
  },
  {
   "cell_type": "code",
   "execution_count": 3,
   "metadata": {
    "collapsed": true
   },
   "outputs": [],
   "source": [
    "# loo = pd.read_csv('loo.csv', sep=';', header=None)\n",
    "# loo.columns=['loo']\n",
    "# loo['target']=y_train\n",
    "# loo_loss = loo.apply(lambda x: log_loss([x['target']], [x['loo']], labels=[1, 0]), axis=1)\n",
    "# pd.DataFrame(loo_loss).to_csv('loo_loss.csv', index=False, header=False, sep=';')"
   ]
  },
  {
   "cell_type": "markdown",
   "metadata": {},
   "source": [
    "# Load data and generate new features"
   ]
  },
  {
   "cell_type": "code",
   "execution_count": 4,
   "metadata": {
    "collapsed": true
   },
   "outputs": [],
   "source": [
    "train = pd.read_csv('train.csv', sep=';')\n",
    "test = pd.read_csv('test.csv', sep=';', na_values='None')\n",
    "\n",
    "train = utils.clean_data(train, more_clean=True)\n",
    "test = utils.clean_data(test, more_clean=True)\n",
    "\n",
    "train = utils.new_features(train)\n",
    "test = utils.new_features(test)\n",
    "\n",
    "X_train = train.drop([ 'cardio'], axis=1)\n",
    "y_train = train['cardio'].values.ravel()\n",
    "X_test = test.drop([], axis=1)\n",
    "\n",
    "data = pd.concat((train.drop('cardio', axis=1), test), axis=0)\n",
    "dic2 = data.groupby('age_group_orig')['age'].min().to_dict()\n",
    "dic3 = data.groupby('age_group_orig')['age'].max().to_dict()\n",
    "X_train['age_dif2'] = X_train[['age_group_orig', 'age']].apply(lambda x: (x['age'] - dic2[x['age_group_orig']]) / dic3[x['age_group_orig']], axis=1)\n",
    "X_test['age_dif2']  =  X_test[['age_group_orig', 'age']].apply(lambda x: (x['age'] - dic2[x['age_group_orig']]) / dic3[x['age_group_orig']], axis=1)"
   ]
  },
  {
   "cell_type": "markdown",
   "metadata": {},
   "source": [
    "# Calculte stratify groups"
   ]
  },
  {
   "cell_type": "code",
   "execution_count": 5,
   "metadata": {
    "collapsed": true
   },
   "outputs": [],
   "source": [
    "loo_loss = pd.read_csv('loo_loss.csv', sep=';', header=None)\n",
    "strat = pd.qcut(loo_loss, 20, labels=False).astype(str)\n",
    "strat = np.hstack((strat, y_train.reshape((-1,1))))\n",
    "strat = np.apply_along_axis(lambda d: str(d[0]) + '_' + str(d[1]), 1, strat)"
   ]
  },
  {
   "cell_type": "markdown",
   "metadata": {},
   "source": [
    "# Keras models"
   ]
  },
  {
   "cell_type": "code",
   "execution_count": 6,
   "metadata": {
    "collapsed": false
   },
   "outputs": [
    {
     "name": "stderr",
     "output_type": "stream",
     "text": [
      "Using Theano backend.\n"
     ]
    }
   ],
   "source": [
    "from keras.layers.core import Dense, Dropout\n",
    "from keras.layers.advanced_activations import LeakyReLU\n",
    "from keras.models import Sequential\n",
    "from keras.optimizers import Adamax\n",
    "\n",
    "from sklearn.preprocessing import StandardScaler\n",
    "\n",
    "class KerasModel(object):\n",
    "    def __init__(self,\n",
    "                 var_num,\n",
    "                 epochs=70,\n",
    "                 learn_rate=0.1,\n",
    "                 config=None,\n",
    "                 batch_size=512,\n",
    "                 verbose=0,\n",
    "                 validation_split=0.2,\n",
    "                 loss=\"binary_crossentropy\"):\n",
    "\n",
    "        self.epochs = epochs\n",
    "        self.batch_size = batch_size\n",
    "        self.verbose = verbose\n",
    "        self.validation_split = validation_split\n",
    "        \n",
    "        self.model = Sequential()\n",
    "        model = self.model\n",
    "        \n",
    "        if config is None:\n",
    "            config =[(var_num, 0.0)]\n",
    "        else:\n",
    "            config = config.copy()\n",
    "            \n",
    "        n, dp = config.pop(0)\n",
    "\n",
    "        model.add(Dense(n, input_dim=var_num, kernel_initializer='uniform'))\n",
    "        model.add(LeakyReLU())\n",
    "        if 0 < dp < 1:\n",
    "            model.add(Dropout(dp))\n",
    "        \n",
    "        while config:\n",
    "            n, dp = config.pop(0)\n",
    "            model.add(Dense(n, kernel_initializer='uniform'))\n",
    "            model.add(LeakyReLU())\n",
    "            if 0 < dp < 1:\n",
    "                model.add(Dropout(dp))\n",
    "\n",
    "\n",
    "        model.add(Dense(1, activation='sigmoid'))\n",
    "        opt = Adamax(lr=learn_rate)\n",
    "\n",
    "        model.compile(loss=loss, optimizer=opt, metrics=['accuracy'])\n",
    "\n",
    "\n",
    "    def fit(self, X, y, sample_weight=None, callbacks=[]):\n",
    "        process_X = X.values if hasattr(X, 'iloc') else X\n",
    "        process_y = y\n",
    "        return self.model.fit(process_X, process_y, batch_size=self.batch_size,\n",
    "                       epochs=self.epochs, verbose=self.verbose,\n",
    "                       sample_weight=sample_weight,\n",
    "                       callbacks=callbacks,\n",
    "                       validation_split=self.validation_split,\n",
    "                       shuffle=True)\n",
    "\n",
    "    def predict_proba(self, X):\n",
    "        process_x = X.values if hasattr(X, 'iloc') else X\n",
    "        result  = self.model.predict(process_x)\n",
    "        classone_probs = result\n",
    "        classzero_probs = 1.0 - classone_probs\n",
    "        return np.hstack((classzero_probs, classone_probs))\n",
    "#         return result\n",
    "    \n",
    "    def predict(self, X):\n",
    "        return np.argmax(self.predict_proba(X), axis=1)"
   ]
  },
  {
   "cell_type": "code",
   "execution_count": 7,
   "metadata": {
    "collapsed": false
   },
   "outputs": [
    {
     "name": "stdout",
     "output_type": "stream",
     "text": [
      "\n",
      "10 folds logloss:\n",
      "[0.53808503548482933, 0.53884686765635181, 0.54003997763976341, 0.53812692408851048, 0.53751825536679487, 0.53995355279650969, 0.53869798183479278, 0.53713969671228812, 0.53888532399449207, 0.53918895585501081]\n",
      "mean: 0.538648257143\n",
      "std: 0.000904036643709\n",
      "5 Splits logloss:\n",
      "[0.53943486353976744, 0.53942470778746621, 0.53994360993248192, 0.53803543300305801, 0.53956285256244951]\n",
      "mean: 0.539280293365\n",
      "std: 0.000650269690796\n",
      "+-KERAS_4_hey3 results saved!\n"
     ]
    },
    {
     "data": {
      "text/plain": [
       "(0.53864825714293429, 0.53928029336504468)"
      ]
     },
     "execution_count": 7,
     "metadata": {},
     "output_type": "execute_result"
    }
   ],
   "source": [
    "use_columns = [\n",
    "'gender',\n",
    "'ap_hi',\n",
    "'ap_lo',\n",
    "'cholesterol',\n",
    "'active_restored',\n",
    "'smoke_restored',\n",
    "'alco_restored',\n",
    "'height_mul_log_cholesterol',\n",
    "'height_mul_log_gluc',\n",
    "'BMI',\n",
    "'age_group',\n",
    "'cholesterol_div_log_gluc',\n",
    "'gluc_mul_log_age',\n",
    "'age_dif2',\n",
    "'ap_lo_mul_log_ap_hi',\n",
    "'age_group_div_height',\n",
    "'age_group_mul_log_MAP',\n",
    "'cholesterol_div_ap_hi',\n",
    "'ap_hi_mul_log_gluc',\n",
    "'BMI_div_ap_hi',\n",
    "'BMI_div_log_age',\n",
    "# 'gluc',\n",
    "'gluc_mul_height',\n",
    "\n",
    "'ap_hi_1',\n",
    "'ap_lo_1',\n",
    "'ap_hi_2',\n",
    "'ap_lo_2',\n",
    "]\n",
    "\n",
    "X1 = X_train[use_columns]\n",
    "X2 = X_test[use_columns]\n",
    "\n",
    "X = pd.concat((X1,X2), axis=0)\n",
    "scaler = StandardScaler().fit(X)\n",
    "X1 = pd.DataFrame(scaler.transform(X1)) #.values\n",
    "X2 = pd.DataFrame(scaler.transform(X2)) #.values\n",
    "\n",
    "def create(x1, x2):\n",
    "    config = [(64,0.075), (64,0.025)]\n",
    "    return KerasModel(var_num=len(use_columns),\n",
    "                   epochs=200,\n",
    "                   learn_rate=0.001,\n",
    "                   config=config,\n",
    "                   batch_size=1024,\n",
    "                   verbose=0,\n",
    "                   validation_split=0.0)\n",
    "utils.execute_model(None,\n",
    "              X1,\n",
    "              y_train,\n",
    "              X2,\n",
    "              model_name=\"+-KERAS_4_hey3\",\n",
    "              n_splits=5,\n",
    "              n_folds=10,\n",
    "              stratification_groups=strat,\n",
    "              create_callback=create\n",
    "             )"
   ]
  },
  {
   "cell_type": "code",
   "execution_count": 8,
   "metadata": {
    "collapsed": false
   },
   "outputs": [
    {
     "name": "stdout",
     "output_type": "stream",
     "text": [
      "\n",
      "10 folds logloss:\n",
      "[0.53761156280117783, 0.53892291320219388, 0.54010385235926828, 0.53782496609730723, 0.53629403980961943, 0.53930981373114251, 0.53902345156883069, 0.53752494536534967, 0.53881472586798329, 0.53895055540202796]\n",
      "mean: 0.53843808262\n",
      "std: 0.00104912802091\n",
      "5 Splits logloss:\n",
      "[0.53839273105703644, 0.53917217837549036, 0.53968607032778004, 0.53799788580222851, 0.53846568005629591]\n",
      "mean: 0.538742909124\n",
      "std: 0.000604709108768\n",
      "+-KERAS_5_hey3 results saved!\n"
     ]
    },
    {
     "data": {
      "text/plain": [
       "(0.53843808262048998, 0.53874290912376632)"
      ]
     },
     "execution_count": 8,
     "metadata": {},
     "output_type": "execute_result"
    }
   ],
   "source": [
    "use_columns = [\n",
    "'gender',\n",
    "'ap_hi',\n",
    "'ap_lo',\n",
    "'cholesterol',\n",
    "'active_restored',\n",
    "'smoke_restored',\n",
    "'alco_restored',\n",
    "'height_mul_log_cholesterol',\n",
    "'height_mul_log_gluc',\n",
    "'BMI',\n",
    "'age_group',\n",
    "'cholesterol_div_log_gluc',\n",
    "'gluc_mul_log_age',\n",
    "'age_dif2',\n",
    "'ap_lo_mul_log_ap_hi',\n",
    "'age_group_div_height',\n",
    "'age_group_mul_log_MAP',\n",
    "'cholesterol_div_ap_hi',\n",
    "'ap_hi_mul_log_gluc',\n",
    "'BMI_div_ap_hi',\n",
    "'BMI_div_log_age',\n",
    "# 'gluc',\n",
    "'gluc_mul_height',\n",
    "\n",
    "'ap_hi_1',\n",
    "'ap_lo_1',\n",
    "'ap_hi_2',\n",
    "'ap_lo_2',\n",
    "]\n",
    "\n",
    "X1 = X_train[use_columns]\n",
    "X2 = X_test[use_columns]\n",
    "\n",
    "X = pd.concat((X1,X2), axis=0)\n",
    "scaler = StandardScaler().fit(X)\n",
    "X1 = pd.DataFrame(scaler.transform(X1))\n",
    "X2 = pd.DataFrame(scaler.transform(X2))\n",
    "\n",
    "def create(x1, x2):\n",
    "    config = [(150,0.5), (64,0.2)]\n",
    "    return KerasModel(var_num=len(use_columns),\n",
    "                   epochs=500,\n",
    "                   learn_rate=0.001,\n",
    "                   config=config,\n",
    "                   batch_size=2000,\n",
    "                   verbose=0,\n",
    "                   validation_split=0.0)\n",
    "utils.execute_model(None,\n",
    "              X1,\n",
    "              y_train,\n",
    "              X2,\n",
    "              model_name=\"+-KERAS_5_hey3\",\n",
    "              n_splits=5,\n",
    "              n_folds=10,\n",
    "              stratification_groups=strat,\n",
    "              create_callback=create\n",
    "             )"
   ]
  },
  {
   "cell_type": "markdown",
   "metadata": {},
   "source": [
    "# XGB models"
   ]
  },
  {
   "cell_type": "code",
   "execution_count": null,
   "metadata": {
    "collapsed": true
   },
   "outputs": [],
   "source": []
  },
  {
   "cell_type": "code",
   "execution_count": null,
   "metadata": {
    "collapsed": true
   },
   "outputs": [],
   "source": []
  },
  {
   "cell_type": "code",
   "execution_count": 9,
   "metadata": {
    "collapsed": false
   },
   "outputs": [
    {
     "name": "stdout",
     "output_type": "stream",
     "text": [
      "\n",
      "10 folds logloss:\n",
      "[0.53683087878243174, 0.53739440015392026, 0.53703107500107594, 0.53629097760746192, 0.53612553688910203, 0.53915086945768242, 0.53804198434940032, 0.53659263486673847, 0.53763225976905393, 0.53643972637262194]\n",
      "mean: 0.537153034325\n",
      "std: 0.000883736311121\n",
      "5 Splits logloss:\n",
      "[0.53684778302251579, 0.53814789299649146, 0.53768941315334473, 0.5381390738050853, 0.53736723468346259]\n",
      "mean: 0.537638279532\n",
      "std: 0.000492232765225\n",
      "+-XGB_1.5_hey3 results saved!\n"
     ]
    },
    {
     "data": {
      "text/plain": [
       "46063"
      ]
     },
     "execution_count": 9,
     "metadata": {},
     "output_type": "execute_result"
    }
   ],
   "source": [
    "use_columns = [\n",
    "\"gender\",\n",
    "\"height\",\n",
    "\"weight\",\n",
    "\"ap_hi\",\n",
    "\"ap_lo\",\n",
    "\"cholesterol\",\n",
    "\"active_fair\",\n",
    "\"smoke_restored\",\n",
    "\"alco_restored\",\n",
    "\"height_mul_log_gluc\",\n",
    "\"BMI\",\n",
    "\"age_group\",\n",
    "\"cholesterol_div_log_gluc\",\n",
    "\"gluc_mul_log_age\",\n",
    "'age_dif2',\n",
    "'ap_lo_mul_log_ap_hi',\n",
    "\n",
    "'ap_hi_1',\n",
    "'ap_lo_1',\n",
    "'ap_hi_2',\n",
    "'ap_lo_2',\n",
    "]\n",
    "model_name = '+-XGB_1.5_hey3'\n",
    "params = {\n",
    "     'colsample_bytree': 0.875,\n",
    "     'gamma': 0.05,\n",
    "     'learning_rate': 0.02,\n",
    "     'max_depth': 5,\n",
    "     'min_child_weight': 5,\n",
    "     'n_estimators': 369,\n",
    "    #'scale_pos_weight': 1.0008,\n",
    "\n",
    "     'reg_alpha': 0,\n",
    "     'reg_lambda': 10,\n",
    "     'subsample': 0.7,\n",
    "    \n",
    "    'n_jobs': -1,\n",
    "    'random_state': 1223,\n",
    "    'silent': True,\n",
    "}\n",
    "model = xgb.XGBClassifier(**params)\n",
    "utils.execute_model(model,\n",
    "              X_train[use_columns],\n",
    "              y_train,\n",
    "              X_test[use_columns],\n",
    "              model_name=model_name,\n",
    "              n_splits=5,\n",
    "              n_folds=10,\n",
    "              stratification_groups=strat,\n",
    "             )\n",
    "gc.collect()"
   ]
  },
  {
   "cell_type": "code",
   "execution_count": 10,
   "metadata": {
    "collapsed": false
   },
   "outputs": [
    {
     "name": "stdout",
     "output_type": "stream",
     "text": [
      "\n",
      "10 folds logloss:\n",
      "[0.5361988439327745, 0.53878553475211877, 0.53642550825857205, 0.53594055637981564, 0.5361002982727765, 0.5379512786791748, 0.53839335070994565, 0.53687083555218573, 0.53820052226766257, 0.53704927838189853]\n",
      "mean: 0.537191600719\n",
      "std: 0.00100157499167\n",
      "5 Splits logloss:\n",
      "[0.53745552328122514, 0.5381727428733416, 0.53720863004951247, 0.53826750450572447, 0.53750435736615743]\n",
      "mean: 0.537721751615\n",
      "std: 0.000420159697957\n",
      "+-XGB_hist_last_hey3 results saved!\n"
     ]
    },
    {
     "data": {
      "text/plain": [
       "37980"
      ]
     },
     "execution_count": 10,
     "metadata": {},
     "output_type": "execute_result"
    }
   ],
   "source": [
    "use_columns = [\n",
    "'gender',\n",
    "'ap_hi',\n",
    "'ap_lo',\n",
    "'cholesterol',\n",
    "'active_fair',\n",
    "'smoke_restored',\n",
    "'alco_restored',\n",
    "'height_mul_log_cholesterol',\n",
    "'height_mul_log_gluc',\n",
    "'BMI',\n",
    "'age_group',\n",
    "'cholesterol_div_log_gluc',\n",
    "'gluc_mul_log_age',\n",
    "'age_dif2',\n",
    "'ap_lo_mul_log_ap_hi',\n",
    "'age_group_div_height',\n",
    "'age_group_mul_log_MAP',\n",
    "'cholesterol_div_ap_hi',\n",
    "'ap_hi_mul_log_gluc',\n",
    "'BMI_div_ap_hi',\n",
    "'BMI_div_log_age',\n",
    "# 'gluc',\n",
    "'gluc_mul_height',\n",
    "\n",
    "'ap_hi_1',\n",
    "'ap_lo_1',\n",
    "'ap_hi_2',\n",
    "'ap_lo_2',\n",
    "]\n",
    "model_name = '+-XGB_hist_last_hey3'\n",
    "params = {\n",
    "     'colsample_bytree': 0.95,\n",
    "     'gamma': 0.55,\n",
    "     'learning_rate': 0.02,\n",
    "     'max_depth': 5,\n",
    "     'min_child_weight': 3,\n",
    "     'n_estimators': 392,\n",
    "     'reg_alpha': 0,\n",
    "     'reg_lambda': 0.4,\n",
    "     'subsample': 0.85,\n",
    "\n",
    "    'tree_method': 'hist',\n",
    "    'grow_policy': 'lossguide',\n",
    "    \n",
    "    'n_jobs': 4,\n",
    "    'random_state': 2222,\n",
    "    'silent': True,\n",
    "}\n",
    "utils.execute_model(xgb.XGBClassifier(**params),\n",
    "              X_train[use_columns],\n",
    "              y_train,\n",
    "              X_test[use_columns],\n",
    "              model_name=model_name,\n",
    "              n_splits=5,\n",
    "              n_folds=10,\n",
    "              stratification_groups=strat,\n",
    "             )\n",
    "gc.collect()"
   ]
  },
  {
   "cell_type": "code",
   "execution_count": 11,
   "metadata": {
    "collapsed": false
   },
   "outputs": [
    {
     "name": "stdout",
     "output_type": "stream",
     "text": [
      "\n",
      "10 folds logloss:\n",
      "[0.53679096203406984, 0.53686247819084321, 0.53722622819229526, 0.53670143130906356, 0.53668676167029405, 0.5388207351446832, 0.53853416463088055, 0.53751440324474176, 0.53710882082165756, 0.53709345427608357]\n",
      "mean: 0.537333943951\n",
      "std: 0.000716923158664\n",
      "5 Splits logloss:\n",
      "[0.53704756018075916, 0.53844297794997698, 0.53769848116522745, 0.53828573732823137, 0.53752307473602035]\n",
      "mean: 0.537799566272\n",
      "std: 0.000510395888075\n",
      "+-XGB_5++_hey3 results saved!\n"
     ]
    },
    {
     "data": {
      "text/plain": [
       "98"
      ]
     },
     "execution_count": 11,
     "metadata": {},
     "output_type": "execute_result"
    }
   ],
   "source": [
    "use_columns = [\n",
    "\"gender\",\n",
    "\"height\",\n",
    "\"weight\",\n",
    "\"ap_hi\",\n",
    "\"ap_lo\",\n",
    "\"cholesterol\",\n",
    "\"height_div_ap_lo\",\n",
    "\"active_fair\",\n",
    "\"smoke_restored\",\n",
    "\"alco_restored\",\n",
    "\"height_mul_log_cholesterol\",\n",
    "\"height_mul_log_gluc\",\n",
    "\"BMI\",\n",
    "\"age_group\",\n",
    "\"cholesterol_div_log_gluc\",\n",
    "\"gluc_mul_log_age\",\n",
    "\"ap_hi_mul_weight\",\n",
    "\n",
    "'ap_hi_1',\n",
    "'ap_lo_1',\n",
    "'ap_hi_2',\n",
    "'ap_lo_2',\n",
    "]\n",
    "\n",
    "model_name = '+-XGB_5++_hey3'\n",
    "params = {\n",
    "     'colsample_bytree': 0.875,\n",
    "     'gamma': 0.05,\n",
    "     'learning_rate': 0.02,\n",
    "     'max_depth': 5,\n",
    "     'min_child_weight': 5,\n",
    "     'n_estimators': 369,\n",
    "\n",
    "     'reg_alpha': 0,\n",
    "     'reg_lambda': 10,\n",
    "     'subsample': 0.7,\n",
    "    \n",
    "    'n_jobs': -1,\n",
    "    'random_state': 5555,\n",
    "    'silent': True,\n",
    "}\n",
    "utils.execute_model(xgb.XGBClassifier(**params),\n",
    "              X_train[use_columns],\n",
    "              y_train,\n",
    "              X_test[use_columns],\n",
    "              model_name=model_name,\n",
    "              n_splits=5,\n",
    "              n_folds=10,\n",
    "              stratification_groups=strat,\n",
    "             )\n",
    "gc.collect()"
   ]
  },
  {
   "cell_type": "code",
   "execution_count": 12,
   "metadata": {
    "collapsed": false
   },
   "outputs": [
    {
     "name": "stdout",
     "output_type": "stream",
     "text": [
      "\n",
      "10 folds logloss:\n",
      "[0.53655731619564451, 0.53760840705419, 0.53614940550827284, 0.53577996441323572, 0.53642402483270102, 0.53844697005811515, 0.53818211341601374, 0.53721983370543724, 0.53748259387352615, 0.53680509493777651]\n",
      "mean: 0.537065572399\n",
      "std: 0.000829288977356\n",
      "5 Splits logloss:\n",
      "[0.5372267876168092, 0.53809160436867254, 0.53759290787825986, 0.53803163087527672, 0.53729765687989339]\n",
      "mean: 0.537648117524\n",
      "std: 0.000359764570448\n",
      "+-XGB_11.5_hey3 results saved!\n"
     ]
    },
    {
     "data": {
      "text/plain": [
       "98"
      ]
     },
     "execution_count": 12,
     "metadata": {},
     "output_type": "execute_result"
    }
   ],
   "source": [
    "use_columns = [\n",
    "\"gender\",\n",
    "\"ap_hi\",\n",
    "\"ap_lo\",\n",
    "\"cholesterol\",\n",
    "\"active_fair\",\n",
    "\"smoke_restored\",\n",
    "\"alco_restored\",\n",
    "\"height_mul_log_cholesterol\",\n",
    "\"height_mul_log_gluc\",\n",
    "\"BMI\",\n",
    "\"age_group\",\n",
    "\"cholesterol_div_log_gluc\",\n",
    "\"gluc_mul_log_age\",\n",
    "\"ap_hi_mul_weight\",\n",
    "\"age_dif2\",\n",
    "'ap_lo_mul_log_ap_hi',\n",
    "'age_group_div_height',\n",
    "'age_group_mul_log_MAP',\n",
    "\n",
    "'ap_hi_1',\n",
    "'ap_lo_1',\n",
    "'ap_hi_2',\n",
    "'ap_lo_2',\n",
    "]\n",
    "model_name = '+-XGB_11.5_hey3'\n",
    "params = {\n",
    "     'colsample_bytree': 0.875,\n",
    "     'gamma': 0.05,\n",
    "     'learning_rate': 0.02,\n",
    "     'max_depth': 5,\n",
    "     'min_child_weight': 5,\n",
    "     'n_estimators': 369,\n",
    "\n",
    "     'reg_alpha': 0,\n",
    "     'reg_lambda': 10,\n",
    "     'subsample': 0.7,\n",
    "    \n",
    "    'n_jobs': -1,\n",
    "    'random_state': 1223,\n",
    "    'silent': True,\n",
    "}\n",
    "utils.execute_model(xgb.XGBClassifier(**params),\n",
    "              X_train[use_columns],\n",
    "              y_train,\n",
    "              X_test[use_columns],\n",
    "              model_name=model_name,\n",
    "              n_splits=5,\n",
    "              n_folds=10,\n",
    "              stratification_groups=strat,\n",
    "             )\n",
    "gc.collect()"
   ]
  },
  {
   "cell_type": "code",
   "execution_count": 13,
   "metadata": {
    "collapsed": false
   },
   "outputs": [
    {
     "name": "stdout",
     "output_type": "stream",
     "text": [
      "\n",
      "10 folds logloss:\n",
      "[0.53584379411531313, 0.5379204437885805, 0.53685329615344046, 0.53593173720193965, 0.53589469605506002, 0.53835195593721119, 0.53813142447067774, 0.53708889733699383, 0.53744152613702623, 0.53700221169126938]\n",
      "mean: 0.537045998289\n",
      "std: 0.00088645551337\n",
      "5 Splits logloss:\n",
      "[0.53728746125722926, 0.5383591846114113, 0.53727894882041782, 0.53798174995254899, 0.53749453630812816]\n",
      "mean: 0.53768037619\n",
      "std: 0.000424657404709\n",
      "XGB_16_hey3 results saved!\n"
     ]
    },
    {
     "data": {
      "text/plain": [
       "39"
      ]
     },
     "execution_count": 13,
     "metadata": {},
     "output_type": "execute_result"
    }
   ],
   "source": [
    "# 1500+ features, very long execution!\n",
    "use_columns = [\n",
    "'gender',\n",
    "'ap_hi',\n",
    "'ap_lo',\n",
    "'cholesterol',\n",
    "'active_fair',\n",
    "'smoke_restored',\n",
    "'alco_restored',\n",
    "'height_mul_log_cholesterol',\n",
    "'height_mul_log_gluc',\n",
    "'BMI',\n",
    "'age_group',\n",
    "'cholesterol_div_log_gluc',\n",
    "'gluc_mul_log_age',\n",
    "'age_dif2',\n",
    "'ap_lo_mul_log_ap_hi',\n",
    "'age_group_div_height',\n",
    "'age_group_mul_log_MAP',\n",
    "'cholesterol_div_ap_hi',\n",
    "'ap_hi_mul_log_gluc',\n",
    "'BMI_div_ap_hi',\n",
    "'BMI_div_log_age',\n",
    "# 'gluc',\n",
    "'gluc_mul_height',\n",
    "\n",
    "'ap_hi_1',\n",
    "'ap_lo_1',\n",
    "'ap_hi_2',\n",
    "'ap_lo_2',\n",
    "]\n",
    "model_name = 'XGB_16_hey3'\n",
    "params = {\n",
    "     'colsample_bytree': 0.875,\n",
    "     'gamma': 0.05,\n",
    "     'learning_rate': 0.02,\n",
    "     'max_depth': 5,\n",
    "     'min_child_weight': 5,\n",
    "     'n_estimators': 369,\n",
    "\n",
    "     'reg_alpha': 0,\n",
    "     'reg_lambda': 10,\n",
    "     'subsample': 0.7,\n",
    "    \n",
    "    'n_jobs': -1,\n",
    "    'random_state': 1223,\n",
    "    'silent': True,\n",
    "}\n",
    "\n",
    "X1 = X_train[use_columns].copy()\n",
    "X2 = X_test[use_columns].copy()\n",
    "\n",
    "from itertools import combinations\n",
    "from patsylearn import PatsyModel, PatsyTransformer\n",
    "\n",
    "interactions = []\n",
    "for i in range(2, 5):\n",
    "    for comb in combinations(['alco_restored', 'smoke_restored', 'active_restored', 'age_group', 'gender', 'gluc', 'cholesterol'], i):\n",
    "        interactions.append(':'.join(['C(%s)' % c for c in comb]))\n",
    "formula = ' + '.join(interactions)\n",
    "transformer = PatsyTransformer(formula)\n",
    "transformer.fit(data)\n",
    "X1 = pd.concat((X1, pd.DataFrame(transformer.transform(X_train))), axis=1)\n",
    "X2 = pd.concat((X2, pd.DataFrame(transformer.transform(X_test))), axis=1)\n",
    "utils.execute_model(xgb.XGBClassifier(**params),\n",
    "              X1,\n",
    "              y_train,\n",
    "              X2,\n",
    "              model_name=model_name,\n",
    "              n_splits=5,\n",
    "              n_folds=10,\n",
    "              stratification_groups=strat,\n",
    "             )\n",
    "gc.collect()"
   ]
  },
  {
   "cell_type": "code",
   "execution_count": null,
   "metadata": {
    "collapsed": true
   },
   "outputs": [],
   "source": []
  },
  {
   "cell_type": "markdown",
   "metadata": {},
   "source": [
    "# Last model uses 'old' way of cleaning data"
   ]
  },
  {
   "cell_type": "code",
   "execution_count": 14,
   "metadata": {
    "collapsed": true
   },
   "outputs": [],
   "source": [
    "train = pd.read_csv('train.csv', sep=';')\n",
    "test = pd.read_csv('test.csv', sep=';', na_values='None')\n",
    "\n",
    "train = utils.clean_data_old(train)\n",
    "test = utils.clean_data_old(test)\n",
    "\n",
    "train = utils.new_features(train)\n",
    "test = utils.new_features(test)\n",
    "\n",
    "X_train = train.drop([ 'cardio'], axis=1)\n",
    "y_train = train['cardio'].values.ravel()\n",
    "X_test = test.drop([], axis=1)\n",
    "\n",
    "data = pd.concat((train.drop('cardio', axis=1), test), axis=0)\n",
    "dic2 = data.groupby('age_group_orig')['age'].min().to_dict()\n",
    "dic3 = data.groupby('age_group_orig')['age'].max().to_dict()\n",
    "X_train['age_dif2'] = X_train[['age_group_orig', 'age']].apply(lambda x: (x['age'] - dic2[x['age_group_orig']]) / dic3[x['age_group_orig']], axis=1)\n",
    "X_test['age_dif2']  =  X_test[['age_group_orig', 'age']].apply(lambda x: (x['age'] - dic2[x['age_group_orig']]) / dic3[x['age_group_orig']], axis=1)"
   ]
  },
  {
   "cell_type": "code",
   "execution_count": 16,
   "metadata": {
    "collapsed": false
   },
   "outputs": [
    {
     "name": "stdout",
     "output_type": "stream",
     "text": [
      "\n",
      "10 folds logloss:\n",
      "[0.53603066476075734, 0.53755204237491194, 0.53756356279751649, 0.53699439413520189, 0.53617252208793764, 0.53904005470963801, 0.53820523700075829, 0.53770240983956663, 0.5374563776603839, 0.53750300052720534]\n",
      "mean: 0.537422026589\n",
      "std: 0.000838733595604\n",
      "5 Splits logloss:\n",
      "[0.53785442561283703, 0.53831680767131707, 0.53822322433459613, 0.53821570676032982, 0.5378486527302081]\n",
      "mean: 0.538091763422\n",
      "std: 0.000199359414591\n",
      "old2_XGB_9 results saved!\n"
     ]
    },
    {
     "data": {
      "text/plain": [
       "1763"
      ]
     },
     "execution_count": 16,
     "metadata": {},
     "output_type": "execute_result"
    }
   ],
   "source": [
    "from sklearn.pipeline import Pipeline, FeatureUnion\n",
    "from utils import SmoothLikelihood4, ColumnsFilter\n",
    "from sklearn.model_selection import StratifiedKFold\n",
    "\n",
    "def wrap_classifier(clf, use_columns, mean_columns):\n",
    "    fs = [(\"filter\", ColumnsFilter(use_columns))]\n",
    "    \n",
    "    for i, cc in enumerate(mean_columns):\n",
    "        fs.append(('mean_'+str(i), SmoothLikelihood4(cc, 0.5,\n",
    "                                                     kf=StratifiedKFold(random_state=111111+i, n_splits=20, shuffle=True),\n",
    "                                                     alpha=13,\n",
    "                                                     seed=10+i,\n",
    "                                                     std=0.0003)))\n",
    "    combined_features = FeatureUnion(fs)\n",
    "    return Pipeline([(\"features\", combined_features), (\"model\", clf)])\n",
    "\n",
    "use_columns = [\n",
    "'gender',\n",
    "'height',\n",
    "'weight',\n",
    "'ap_hi',\n",
    "'ap_lo',\n",
    "'cholesterol',\n",
    "'active_fair',\n",
    "'smoke_restored',\n",
    "'alco_restored',\n",
    "'height_mul_log_cholesterol',\n",
    "'height_mul_log_gluc',\n",
    "'BMI',\n",
    "'age_group',\n",
    "'cholesterol_div_log_gluc',\n",
    "'gluc_mul_log_age',\n",
    "'ap_hi_mul_weight',\n",
    "'age_dif2',\n",
    "'ap_lo_mul_log_ap_hi',\n",
    "'age_group_div_height',\n",
    "'age_group_mul_log_MAP',\n",
    "\n",
    "'ap_hi_1',\n",
    "'ap_lo_1',\n",
    "'ap_hi_2',\n",
    "'ap_lo_2',\n",
    "]\n",
    "\n",
    "# Trying to use mean target for interactions of categorical features...\n",
    "mean_columns = [\n",
    "    ['cholesterol','gluc','smoke_restored','active_restored'],\n",
    "    ['ap_hi_group', 'age_group', 'gender'],\n",
    "    ['gender','cholesterol','age_group']\n",
    "]\n",
    "model_name = 'old2_XGB_9'\n",
    "params = {\n",
    "     'colsample_bytree': 0.875,\n",
    "     'gamma': 0.05,\n",
    "     'learning_rate': 0.02,\n",
    "     'max_depth': 5,\n",
    "     'min_child_weight': 5,\n",
    "     'n_estimators': 369,\n",
    "\n",
    "     'reg_alpha': 0,\n",
    "     'reg_lambda': 10,\n",
    "     'subsample': 0.7,\n",
    "    \n",
    "    'n_jobs': 1,\n",
    "    'random_state': 5555,\n",
    "    'silent': True,\n",
    "}\n",
    "model = wrap_classifier(xgb.XGBClassifier(**params), use_columns, mean_columns)\n",
    "utils.execute_model(model,\n",
    "              X_train,\n",
    "              y_train,\n",
    "              X_test,\n",
    "              model_name=model_name,\n",
    "              n_splits=5,\n",
    "              n_folds=10,\n",
    "              stratification_groups=strat,\n",
    "             )\n",
    "gc.collect()"
   ]
  },
  {
   "cell_type": "code",
   "execution_count": 17,
   "metadata": {
    "collapsed": false
   },
   "outputs": [
    {
     "name": "stdout",
     "output_type": "stream",
     "text": [
      "\n",
      "10 folds logloss:\n",
      "[0.53629192696554262, 0.53912417668723811, 0.53648656223284907, 0.5359235939373741, 0.53602853457454958, 0.53778239749724188, 0.53858169374014364, 0.53673672400797168, 0.53811822237132778, 0.53733641252020892]\n",
      "mean: 0.537241024453\n",
      "std: 0.0010651473799\n",
      "5 Splits logloss:\n",
      "[0.53753664910305465, 0.53840526516904075, 0.53747071837882199, 0.53829987020072123, 0.53773954474651031]\n",
      "mean: 0.53789040952\n",
      "std: 0.000389045409912\n",
      "+-XGB_hist_last_hey3_old results saved!\n"
     ]
    },
    {
     "data": {
      "text/plain": [
       "49"
      ]
     },
     "execution_count": 17,
     "metadata": {},
     "output_type": "execute_result"
    }
   ],
   "source": [
    "use_columns = [\n",
    "'gender',\n",
    "'ap_hi',\n",
    "'ap_lo',\n",
    "'cholesterol',\n",
    "'active_fair',\n",
    "'smoke_restored',\n",
    "'alco_restored',\n",
    "'height_mul_log_cholesterol',\n",
    "'height_mul_log_gluc',\n",
    "'BMI',\n",
    "'age_group',\n",
    "'cholesterol_div_log_gluc',\n",
    "'gluc_mul_log_age',\n",
    "'age_dif2',\n",
    "'ap_lo_mul_log_ap_hi',\n",
    "'age_group_div_height',\n",
    "'age_group_mul_log_MAP',\n",
    "'cholesterol_div_ap_hi',\n",
    "'ap_hi_mul_log_gluc',\n",
    "'BMI_div_ap_hi',\n",
    "'BMI_div_log_age',\n",
    "# 'gluc',\n",
    "'gluc_mul_height',\n",
    "\n",
    "'ap_hi_1',\n",
    "'ap_lo_1',\n",
    "'ap_hi_2',\n",
    "'ap_lo_2',\n",
    "]\n",
    "model_name = '+-XGB_hist_last_hey3_old'\n",
    "params = {\n",
    "     'colsample_bytree': 0.95,\n",
    "     'gamma': 0.55,\n",
    "     'learning_rate': 0.02,\n",
    "     'max_depth': 5,\n",
    "     'min_child_weight': 3,\n",
    "     'n_estimators': 392,\n",
    "     'reg_alpha': 0,\n",
    "     'reg_lambda': 0.4,\n",
    "     'subsample': 0.85,\n",
    "\n",
    "    'tree_method': 'hist',\n",
    "    'grow_policy': 'lossguide',\n",
    "    \n",
    "    'n_jobs': 4,\n",
    "    'random_state': 2222,\n",
    "    'silent': True,\n",
    "}\n",
    "utils.execute_model(xgb.XGBClassifier(**params),\n",
    "              X_train[use_columns],\n",
    "              y_train,\n",
    "              X_test[use_columns],\n",
    "              model_name=model_name,\n",
    "              n_splits=5,\n",
    "              n_folds=10,\n",
    "              stratification_groups=strat,\n",
    "             )\n",
    "gc.collect()"
   ]
  },
  {
   "cell_type": "markdown",
   "metadata": {},
   "source": [
    "# Merge models and save results"
   ]
  },
  {
   "cell_type": "code",
   "execution_count": 18,
   "metadata": {
    "collapsed": false
   },
   "outputs": [
    {
     "name": "stdout",
     "output_type": "stream",
     "text": [
      "\n",
      "+-KERAS_4_hey3\n",
      "0.538648315917\t0.539280293323\t0.538648315917\t0.539280293323\n",
      "\n",
      "+-KERAS_5_hey3\n",
      "0.53843806856\t0.538742909025\t0.53822013196\t0.53870561627\n",
      "\n",
      "+-XGB_11.5_hey3\n",
      "0.537065334861\t0.537648117547\t0.53713347719\t0.537527681376\n",
      "\n",
      "+-XGB_1.5_hey3\n",
      "0.537152971163\t0.537638279601\t0.536881998939\t0.537242136536\n",
      "\n",
      "+-XGB_hist_last_hey3\n",
      "0.537191400652\t0.5377217516\t0.53672805302\t0.537086841736\n",
      "\n",
      "+-XGB_hist_last_hey3_old\n",
      "0.537240859634\t0.537890409453\t0.536685065957\t0.537071911656\n",
      "\n",
      "+-XGB_5++_hey3\n",
      "0.537333747496\t0.537799566163\t0.536664326068\t0.537043567908\n",
      "\n",
      "old2_XGB_9\n",
      "0.537421764496\t0.538091763398\t0.536615154218\t0.537017652488\n",
      "\n",
      "XGB_16_hey3\n",
      "0.537045771061\t0.53768037617\t0.536604862479\t0.537024535086\n"
     ]
    }
   ],
   "source": [
    "models = [\n",
    "    '+-KERAS_4_hey3',\n",
    "    '+-KERAS_5_hey3',\n",
    "    '+-XGB_11.5_hey3',\n",
    "    '+-XGB_1.5_hey3',\n",
    "    '+-XGB_hist_last_hey3',\n",
    "    '+-XGB_hist_last_hey3_old',\n",
    "    '+-XGB_5++_hey3',\n",
    "    'old2_XGB_9',\n",
    "    'XGB_16_hey3',\n",
    "         ]\n",
    "result = utils.merge_models(models, method='mean')\n",
    "pd.DataFrame(result).to_csv('merged_models.csv', index=False, header=False, sep=';')"
   ]
  },
  {
   "cell_type": "code",
   "execution_count": null,
   "metadata": {
    "collapsed": true
   },
   "outputs": [],
   "source": [
    "CV:      0.536604862479\n",
    "Public:  0.5426653\n",
    "Private: 0.5306077"
   ]
  }
 ],
 "metadata": {
  "kernelspec": {
   "display_name": "Python 3",
   "language": "python",
   "name": "python3"
  },
  "language_info": {
   "codemirror_mode": {
    "name": "ipython",
    "version": 3
   },
   "file_extension": ".py",
   "mimetype": "text/x-python",
   "name": "python",
   "nbconvert_exporter": "python",
   "pygments_lexer": "ipython3",
   "version": "3.6.0"
  }
 },
 "nbformat": 4,
 "nbformat_minor": 2
}
